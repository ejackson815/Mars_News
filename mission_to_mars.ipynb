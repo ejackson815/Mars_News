{
 "cells": [
  {
   "cell_type": "code",
   "execution_count": 1,
   "metadata": {},
   "outputs": [],
   "source": [
    "from bs4 import BeautifulSoup\n",
    "import requests\n",
    "import pymongo\n",
    "import time\n",
    "import pandas as pd\n",
    "import shutil\n",
    "from splinter import Browser\n",
    "from splinter.exceptions import ElementDoesNotExist\n",
    "#splintering\n",
    "executable_path = {'executable_path':'chromedriver.exe'}\n",
    "browser = Browser('chrome',**executable_path)"
   ]
  },
  {
   "cell_type": "code",
   "execution_count": 2,
   "metadata": {},
   "outputs": [],
   "source": [
    "# Initialize Pymongo to work with MongoDBs\n",
    "#conn = 'mongodb://localhost:27017'\n",
    "#client = pymongo.MongoClient(conn)"
   ]
  },
  {
   "cell_type": "code",
   "execution_count": 3,
   "metadata": {},
   "outputs": [],
   "source": [
    "#Define database & Collection\n",
    "#db = client.marsnews_db\n",
    "#collection = db.items"
   ]
  },
  {
   "cell_type": "markdown",
   "metadata": {},
   "source": [
    "### Mars News"
   ]
  },
  {
   "cell_type": "code",
   "execution_count": 4,
   "metadata": {},
   "outputs": [
    {
     "name": "stdout",
     "output_type": "stream",
     "text": [
      "May  5, 2018\n",
      "NASA's First Deep-Space CubeSats Say: 'Polo!'\n",
      "MarCO is a pair of tiny spacecraft that launched with NASA's InSight lander today.\n"
     ]
    }
   ],
   "source": [
    "#Url of page to be scraped\n",
    "url = \"https://mars.nasa.gov/news/\"\n",
    "browser.visit(url)\n",
    "#Retrieve page with the requests module\n",
    "html = browser.html\n",
    "# Create BS4 object; parse with parser\n",
    "soup = BeautifulSoup(html,'html.parser')\n",
    "\n",
    "# save the most recent article, title and date\n",
    "article = soup.find(\"div\", class_=\"list_text\")\n",
    "news_p = article.find(\"div\", class_=\"article_teaser_body\").text\n",
    "news_title = article.find(\"div\", class_=\"content_title\").text\n",
    "news_date = article.find(\"div\", class_=\"list_date\").text\n",
    "print(news_date)\n",
    "print(news_title)\n",
    "print(news_p)"
   ]
  },
  {
   "cell_type": "markdown",
   "metadata": {},
   "source": [
    "#### couldn't get date function working\n",
    "#Obtain Header and Paragraph text\n",
    "#article = soup.find('div', class_='list_text')\n",
    "#news_title = soup.find('div', 'content_title', 'a').text\n",
    "#news_p = soup.find('div', 'rollover_description_inner').text\n",
    "#news_date = article.find('div', class_='list_date').text\n"
   ]
  },
  {
   "cell_type": "markdown",
   "metadata": {},
   "source": [
    "### Space Images"
   ]
  },
  {
   "cell_type": "code",
   "execution_count": 5,
   "metadata": {},
   "outputs": [],
   "source": [
    "\n",
    "# url of page to be scraped\n",
    "url2 = \"https://www.jpl.nasa.gov/spaceimages/?search=&category=Mars\"\n",
    "browser.visit(url2)\n",
    "\n",
    "#html object\n",
    "html = browser.html\n",
    "\n",
    "#Parse HTML object with Beautiful Soup\n",
    "soup = BeautifulSoup(html,'html.parser')\n",
    "\n",
    "#capturing feature image\n",
    "image = soup.find('img', class_='thumb')['src']\n",
    "image_url = \"http://jpl.nasa.gov\"+image\n",
    "featured_image_url = image_url\n",
    "\n",
    "#download image as a JPG file\n",
    "response = requests.get(image_url, stream=True)\n",
    "with open('img.jpg', 'wb') as out_file:\n",
    "    shutil.copyfileobj(response.raw, out_file)"
   ]
  },
  {
   "cell_type": "markdown",
   "metadata": {},
   "source": [
    "### Mars Weather"
   ]
  },
  {
   "cell_type": "code",
   "execution_count": 6,
   "metadata": {},
   "outputs": [],
   "source": [
    "#import twitter dependacies & API Credentials\n",
    "import tweepy\n",
    "from config import consumer_key\n",
    "from config import sconsumer_key\n",
    "from config import access_token\n",
    "from config import saccess_token"
   ]
  },
  {
   "cell_type": "code",
   "execution_count": 7,
   "metadata": {},
   "outputs": [
    {
     "data": {
      "text/plain": [
       "'Sol 2045 (May 08, 2018), Sunny, high -7C/19F, low -74C/-101F, pressure at 7.33 hPa, daylight 05:22-17:20'"
      ]
     },
     "execution_count": 7,
     "metadata": {},
     "output_type": "execute_result"
    }
   ],
   "source": [
    "#Tweepy API Authorizations\n",
    "auth = tweepy.OAuthHandler(consumer_key, sconsumer_key)\n",
    "auth.set_access_token(access_token, saccess_token)\n",
    "api = tweepy.API(auth, parser=tweepy.parsers.JSONParser())\n",
    "\n",
    "#Target User\n",
    "target_user = '@MarsWxReport'\n",
    "#Obtain Tweet\n",
    "tweet = api.user_timeline(target_user, count = 1)\n",
    "mars_weather = tweet[0]['text']\n",
    "mars_weather"
   ]
  },
  {
   "cell_type": "markdown",
   "metadata": {},
   "source": [
    "### Mars Facts"
   ]
  },
  {
   "cell_type": "code",
   "execution_count": 8,
   "metadata": {},
   "outputs": [],
   "source": [
    "#Mars Facts Url for scrapping\n",
    "url3 = \"http://space-facts.com/mars/\"\n",
    "browser.visit(url3)"
   ]
  },
  {
   "cell_type": "code",
   "execution_count": 9,
   "metadata": {},
   "outputs": [
    {
     "data": {
      "text/plain": [
       "'<table border=\"1\" class=\"dataframe marsdf\">   <thead>     <tr style=\"text-align: right;\">       <th></th>       <th>Data</th>     </tr>     <tr>       <th>Mars</th>       <th></th>     </tr>   </thead>   <tbody>     <tr>       <th>Equatorial Diameter:</th>       <td>6,792 km</td>     </tr>     <tr>       <th>Polar Diameter:</th>       <td>6,752 km</td>     </tr>     <tr>       <th>Mass:</th>       <td>6.42 x 10^23 kg (10.7% Earth)</td>     </tr>     <tr>       <th>Moons:</th>       <td>2 (Phobos &amp; Deimos)</td>     </tr>     <tr>       <th>Orbit Distance:</th>       <td>227,943,824 km (1.52 AU)</td>     </tr>     <tr>       <th>Orbit Period:</th>       <td>687 days (1.9 years)</td>     </tr>     <tr>       <th>Surface Temperature:</th>       <td>-153 to 20 °C</td>     </tr>     <tr>       <th>First Record:</th>       <td>2nd millennium BC</td>     </tr>     <tr>       <th>Recorded By:</th>       <td>Egyptian astronomers</td>     </tr>   </tbody> </table>'"
      ]
     },
     "execution_count": 9,
     "metadata": {},
     "output_type": "execute_result"
    }
   ],
   "source": [
    "#DataFrame Creation\n",
    "pull=pd.read_html(url3)\n",
    "mars_data_df=pd.DataFrame(pull[0])\n",
    "mars_data_df.columns=['Mars','Data']\n",
    "mars_table=mars_data_df.set_index(\"Mars\")\n",
    "marsdata_df = mars_table.to_html(classes='marsdf')\n",
    "marsdata_df=marsdata_df.replace('\\n', ' ')\n",
    "marsdata_df"
   ]
  },
  {
   "cell_type": "markdown",
   "metadata": {},
   "source": [
    "### Mars Hemispheres"
   ]
  },
  {
   "cell_type": "code",
   "execution_count": 10,
   "metadata": {},
   "outputs": [],
   "source": [
    "url4 = \"https://astrogeology.usgs.gov/search/results?q=hemisphere+enhanced&k1=target&v1=Mars\"\n",
    "browser.visit(url4)\n",
    "#reset\n",
    "hem_img_url = []"
   ]
  },
  {
   "cell_type": "markdown",
   "metadata": {},
   "source": [
    "#### Valles Marineris"
   ]
  },
  {
   "cell_type": "code",
   "execution_count": 11,
   "metadata": {},
   "outputs": [],
   "source": [
    "#Move through pages\n",
    "time.sleep(5)\n",
    "browser.click_link_by_partial_text('Valles Marineris Hemisphere Enhanced')\n",
    "time.sleep(5)\n",
    "\n",
    "#BS4 object parser\n",
    "html = browser.html\n",
    "soup = BeautifulSoup(html,'html.parser')\n",
    "\n",
    "#hold link\n",
    "vall_mar = soup.find('div','downloads').a['href']\n",
    "\n",
    "#create dictionary\n",
    "valles_marineris = {\n",
    "    'title' : 'Valles Marineris Hemisphere',\n",
    "    'img_url' : 'vall_mar'\n",
    "}\n",
    "\n",
    "#Append to Dict\n",
    "hem_img_url.append(valles_marineris)"
   ]
  },
  {
   "cell_type": "markdown",
   "metadata": {},
   "source": [
    "#### Cerberus"
   ]
  },
  {
   "cell_type": "code",
   "execution_count": 12,
   "metadata": {},
   "outputs": [],
   "source": [
    "#Reset Url\n",
    "browser.visit(url4)\n",
    "#Move through pages\n",
    "time.sleep(5)\n",
    "browser.click_link_by_partial_text('Cerberus Hemisphere Enhanced')\n",
    "time.sleep(5)\n",
    "\n",
    "#BS4 object parser\n",
    "html = browser.html\n",
    "soup = BeautifulSoup(html,'html.parser')\n",
    "\n",
    "#hold link\n",
    "cerb = soup.find('div','downloads').a['href']\n",
    "\n",
    "#create dictionary\n",
    "cerberus = {\n",
    "    'title' : 'Valles Marineris Hemisphere',\n",
    "    'img_url' : 'cerb'\n",
    "}\n",
    "\n",
    "#Append to Dict\n",
    "hem_img_url.append(cerberus)"
   ]
  },
  {
   "cell_type": "markdown",
   "metadata": {},
   "source": [
    "#### Schiaparelli"
   ]
  },
  {
   "cell_type": "code",
   "execution_count": 13,
   "metadata": {},
   "outputs": [],
   "source": [
    "#Reset Url\n",
    "browser.visit(url4)\n",
    "#Move through pages\n",
    "time.sleep(5)\n",
    "browser.click_link_by_partial_text('Schiaparelli Hemisphere Enhanced')\n",
    "time.sleep(5)\n",
    "\n",
    "#BS4 object parser\n",
    "html = browser.html\n",
    "soup = BeautifulSoup(html,'html.parser')\n",
    "\n",
    "#hold link\n",
    "sch = soup.find('div','downloads').a['href']\n",
    "\n",
    "#create dictionary\n",
    "schiaparelli = {\n",
    "    'title' : 'Schiaparelli Hemisphere',\n",
    "    'img_url' : 'sch'\n",
    "}\n",
    "\n",
    "#Append to Dict\n",
    "hem_img_url.append(schiaparelli)"
   ]
  },
  {
   "cell_type": "markdown",
   "metadata": {},
   "source": [
    "#### Syrtis Major"
   ]
  },
  {
   "cell_type": "code",
   "execution_count": 14,
   "metadata": {},
   "outputs": [],
   "source": [
    "#Reset Url\n",
    "browser.visit(url4)\n",
    "#Move through pages\n",
    "time.sleep(5)\n",
    "browser.click_link_by_partial_text('Syrtis Major Hemisphere Enhanced')\n",
    "time.sleep(5)\n",
    "\n",
    "#BS4 object parser\n",
    "html = browser.html\n",
    "soup = BeautifulSoup(html,'html.parser')\n",
    "\n",
    "#hold link\n",
    "syr_mjr = soup.find('div','downloads').a['href']\n",
    "\n",
    "#create dictionary\n",
    "syrtis_major = {\n",
    "    'title' : 'Syrtis Major Hemisphere',\n",
    "    'img_url' : 'syr_mjr'\n",
    "}\n",
    "\n",
    "#Append to Dict\n",
    "hem_img_url.append(syrtis_major)"
   ]
  },
  {
   "cell_type": "code",
   "execution_count": 15,
   "metadata": {},
   "outputs": [
    {
     "data": {
      "text/plain": [
       "[{'title': 'Valles Marineris Hemisphere', 'img_url': 'vall_mar'},\n",
       " {'title': 'Valles Marineris Hemisphere', 'img_url': 'cerb'},\n",
       " {'title': 'Schiaparelli Hemisphere', 'img_url': 'sch'},\n",
       " {'title': 'Syrtis Major Hemisphere', 'img_url': 'syr_mjr'}]"
      ]
     },
     "execution_count": 15,
     "metadata": {},
     "output_type": "execute_result"
    }
   ],
   "source": [
    "hem_img_url"
   ]
  },
  {
   "cell_type": "code",
   "execution_count": null,
   "metadata": {},
   "outputs": [],
   "source": []
  }
 ],
 "metadata": {
  "kernelspec": {
   "display_name": "Python 3",
   "language": "python",
   "name": "python3"
  },
  "language_info": {
   "codemirror_mode": {
    "name": "ipython",
    "version": 3
   },
   "file_extension": ".py",
   "mimetype": "text/x-python",
   "name": "python",
   "nbconvert_exporter": "python",
   "pygments_lexer": "ipython3",
   "version": "3.6.0"
  }
 },
 "nbformat": 4,
 "nbformat_minor": 2
}
